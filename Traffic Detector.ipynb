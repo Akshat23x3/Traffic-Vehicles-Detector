{
 "cells": [
  {
   "cell_type": "code",
   "execution_count": 1,
   "metadata": {},
   "outputs": [
    {
     "name": "stderr",
     "output_type": "stream",
     "text": [
      "Using TensorFlow backend.\n"
     ]
    }
   ],
   "source": [
    "import keras\n",
    "from keras.preprocessing.image import ImageDataGenerator\n",
    "from sklearn.preprocessing import MinMaxScaler\n",
    "from keras.datasets import cifar10\n",
    "from keras.utils import to_categorical\n",
    "import numpy as np\n",
    "\n",
    "# Preparing CIFAR10 Dataset for the models as CIFAR10 contains almost land vehicles data.\n",
    "(X_train , Y_train), (X_test, Y_test) = cifar10.load_data()\n",
    "X_train = X_train.astype('float32') / 255.0\n",
    "X_test = X_test.astype('float32') / 255.0\n",
    "Y_train = to_categorical(Y_train)\n",
    "Y_test = to_categorical(Y_test)"
   ]
  },
  {
   "cell_type": "code",
   "execution_count": 2,
   "metadata": {},
   "outputs": [
    {
     "name": "stdout",
     "output_type": "stream",
     "text": [
      "Model: \"sequential_1\"\n",
      "_________________________________________________________________\n",
      "Layer (type)                 Output Shape              Param #   \n",
      "=================================================================\n",
      "conv2d_1 (Conv2D)            (None, 32, 32, 32)        896       \n",
      "_________________________________________________________________\n",
      "activation_1 (Activation)    (None, 32, 32, 32)        0         \n",
      "_________________________________________________________________\n",
      "batch_normalization_1 (Batch (None, 32, 32, 32)        128       \n",
      "_________________________________________________________________\n",
      "conv2d_2 (Conv2D)            (None, 32, 32, 32)        9248      \n",
      "_________________________________________________________________\n",
      "activation_2 (Activation)    (None, 32, 32, 32)        0         \n",
      "_________________________________________________________________\n",
      "batch_normalization_2 (Batch (None, 32, 32, 32)        128       \n",
      "_________________________________________________________________\n",
      "max_pooling2d_1 (MaxPooling2 (None, 16, 16, 32)        0         \n",
      "_________________________________________________________________\n",
      "dropout_1 (Dropout)          (None, 16, 16, 32)        0         \n",
      "_________________________________________________________________\n",
      "conv2d_3 (Conv2D)            (None, 16, 16, 64)        18496     \n",
      "_________________________________________________________________\n",
      "activation_3 (Activation)    (None, 16, 16, 64)        0         \n",
      "_________________________________________________________________\n",
      "batch_normalization_3 (Batch (None, 16, 16, 64)        256       \n",
      "_________________________________________________________________\n",
      "conv2d_4 (Conv2D)            (None, 16, 16, 64)        36928     \n",
      "_________________________________________________________________\n",
      "activation_4 (Activation)    (None, 16, 16, 64)        0         \n",
      "_________________________________________________________________\n",
      "batch_normalization_4 (Batch (None, 16, 16, 64)        256       \n",
      "_________________________________________________________________\n",
      "max_pooling2d_2 (MaxPooling2 (None, 8, 8, 64)          0         \n",
      "_________________________________________________________________\n",
      "dropout_2 (Dropout)          (None, 8, 8, 64)          0         \n",
      "_________________________________________________________________\n",
      "conv2d_5 (Conv2D)            (None, 8, 8, 128)         73856     \n",
      "_________________________________________________________________\n",
      "activation_5 (Activation)    (None, 8, 8, 128)         0         \n",
      "_________________________________________________________________\n",
      "batch_normalization_5 (Batch (None, 8, 8, 128)         512       \n",
      "_________________________________________________________________\n",
      "conv2d_6 (Conv2D)            (None, 8, 8, 128)         147584    \n",
      "_________________________________________________________________\n",
      "activation_6 (Activation)    (None, 8, 8, 128)         0         \n",
      "_________________________________________________________________\n",
      "batch_normalization_6 (Batch (None, 8, 8, 128)         512       \n",
      "_________________________________________________________________\n",
      "max_pooling2d_3 (MaxPooling2 (None, 4, 4, 128)         0         \n",
      "_________________________________________________________________\n",
      "dropout_3 (Dropout)          (None, 4, 4, 128)         0         \n",
      "_________________________________________________________________\n",
      "flatten_1 (Flatten)          (None, 2048)              0         \n",
      "_________________________________________________________________\n",
      "dense_1 (Dense)              (None, 10)                20490     \n",
      "=================================================================\n",
      "Total params: 309,290\n",
      "Trainable params: 308,394\n",
      "Non-trainable params: 896\n",
      "_________________________________________________________________\n"
     ]
    }
   ],
   "source": [
    "model = keras.models.Sequential()\n",
    "model.add(keras.layers.Conv2D(32, (3,3), padding='same', kernel_initializer = 'lecun_normal', input_shape=X_train.shape[1:]))\n",
    "model.add(keras.layers.Activation('elu'))\n",
    "model.add(keras.layers.BatchNormalization())\n",
    "model.add(keras.layers.Conv2D(32, (3,3), padding='same', kernel_initializer='lecun_normal'))\n",
    "model.add(keras.layers.Activation('elu'))\n",
    "model.add(keras.layers.BatchNormalization())\n",
    "model.add(keras.layers.MaxPooling2D(pool_size=(2,2)))\n",
    "model.add(keras.layers.Dropout(0.2))\n",
    " \n",
    "model.add(keras.layers.Conv2D(64, (3,3), padding='same',kernel_initializer='lecun_normal'))\n",
    "model.add(keras.layers.Activation('elu'))\n",
    "model.add(keras.layers.BatchNormalization())\n",
    "model.add(keras.layers.Conv2D(64, (3,3), padding='same',kernel_initializer='lecun_normal'))\n",
    "model.add(keras.layers.Activation('elu'))\n",
    "model.add(keras.layers.BatchNormalization())\n",
    "model.add(keras.layers.MaxPooling2D(pool_size=(2,2)))\n",
    "model.add(keras.layers.Dropout(0.3))\n",
    " \n",
    "model.add(keras.layers.Conv2D(128, (3,3), padding='same',kernel_initializer='lecun_normal' ))\n",
    "model.add(keras.layers.Activation('elu'))\n",
    "model.add(keras.layers.BatchNormalization())\n",
    "model.add(keras.layers.Conv2D(128, (3,3), padding='same',kernel_initializer='lecun_normal'))\n",
    "model.add(keras.layers.Activation('elu'))\n",
    "model.add(keras.layers.BatchNormalization())\n",
    "model.add(keras.layers.MaxPooling2D(pool_size=(2,2)))\n",
    "model.add(keras.layers.Dropout(0.4))\n",
    " \n",
    "model.add(keras.layers.Flatten())\n",
    "model.add(keras.layers.Dense(10, activation='softmax'))\n",
    " \n",
    "model.summary()"
   ]
  },
  {
   "cell_type": "code",
   "execution_count": 3,
   "metadata": {},
   "outputs": [
    {
     "name": "stdout",
     "output_type": "stream",
     "text": [
      "Epoch 1/20\n",
      "781/781 [==============================] - 38s 49ms/step - loss: 1.8228 - accuracy: 0.4114 - val_loss: 1.3265 - val_accuracy: 0.5436\n",
      "Epoch 2/20\n",
      "781/781 [==============================] - 33s 42ms/step - loss: 1.2920 - accuracy: 0.5485 - val_loss: 1.1728 - val_accuracy: 0.6050\n",
      "Epoch 3/20\n",
      "781/781 [==============================] - 32s 41ms/step - loss: 1.1101 - accuracy: 0.6102 - val_loss: 0.9527 - val_accuracy: 0.6723\n",
      "Epoch 4/20\n",
      "781/781 [==============================] - 32s 41ms/step - loss: 1.0049 - accuracy: 0.6482 - val_loss: 0.9969 - val_accuracy: 0.6725\n",
      "Epoch 5/20\n",
      "781/781 [==============================] - 32s 41ms/step - loss: 0.9309 - accuracy: 0.6741 - val_loss: 0.8446 - val_accuracy: 0.7192\n",
      "Epoch 6/20\n",
      "781/781 [==============================] - 32s 41ms/step - loss: 0.8716 - accuracy: 0.6937 - val_loss: 0.8574 - val_accuracy: 0.7147\n",
      "Epoch 7/20\n",
      "781/781 [==============================] - 33s 42ms/step - loss: 0.8321 - accuracy: 0.7080 - val_loss: 0.7880 - val_accuracy: 0.7362\n",
      "Epoch 8/20\n",
      "781/781 [==============================] - 32s 41ms/step - loss: 0.7928 - accuracy: 0.7225 - val_loss: 0.7402 - val_accuracy: 0.7492\n",
      "Epoch 9/20\n",
      "781/781 [==============================] - 32s 41ms/step - loss: 0.7601 - accuracy: 0.7344 - val_loss: 0.6760 - val_accuracy: 0.7737\n",
      "Epoch 10/20\n",
      "781/781 [==============================] - 33s 42ms/step - loss: 0.7399 - accuracy: 0.7412 - val_loss: 0.7200 - val_accuracy: 0.7604\n",
      "Epoch 11/20\n",
      "781/781 [==============================] - 33s 42ms/step - loss: 0.7119 - accuracy: 0.7531 - val_loss: 0.7245 - val_accuracy: 0.7600\n",
      "Epoch 12/20\n",
      "781/781 [==============================] - 33s 42ms/step - loss: 0.6893 - accuracy: 0.7603 - val_loss: 0.6791 - val_accuracy: 0.7751\n",
      "Epoch 13/20\n",
      "781/781 [==============================] - 33s 42ms/step - loss: 0.6737 - accuracy: 0.7658 - val_loss: 0.6377 - val_accuracy: 0.7887\n",
      "Epoch 14/20\n",
      "781/781 [==============================] - 33s 43ms/step - loss: 0.6466 - accuracy: 0.7751 - val_loss: 0.6252 - val_accuracy: 0.7918\n",
      "Epoch 15/20\n",
      "781/781 [==============================] - 33s 42ms/step - loss: 0.6402 - accuracy: 0.7786 - val_loss: 0.6104 - val_accuracy: 0.7988\n",
      "Epoch 16/20\n",
      "781/781 [==============================] - 33s 43ms/step - loss: 0.6256 - accuracy: 0.7826 - val_loss: 0.6409 - val_accuracy: 0.7938\n",
      "Epoch 17/20\n",
      "781/781 [==============================] - 35s 44ms/step - loss: 0.6099 - accuracy: 0.7884 - val_loss: 0.6072 - val_accuracy: 0.7970\n",
      "Epoch 18/20\n",
      "781/781 [==============================] - 32s 41ms/step - loss: 0.5958 - accuracy: 0.7920 - val_loss: 0.5891 - val_accuracy: 0.8094\n",
      "Epoch 19/20\n",
      "781/781 [==============================] - 33s 42ms/step - loss: 0.5843 - accuracy: 0.7968 - val_loss: 0.6175 - val_accuracy: 0.7931\n",
      "Epoch 20/20\n",
      "781/781 [==============================] - 33s 42ms/step - loss: 0.5677 - accuracy: 0.8015 - val_loss: 0.5870 - val_accuracy: 0.8077\n"
     ]
    },
    {
     "data": {
      "text/plain": [
       "<keras.callbacks.callbacks.History at 0x1eddd495048>"
      ]
     },
     "execution_count": 3,
     "metadata": {},
     "output_type": "execute_result"
    }
   ],
   "source": [
    "datagen = ImageDataGenerator(rotation_range=15,\n",
    "                            width_shift_range=0.1,\n",
    "                            height_shift_range=0.1,\n",
    "                            horizontal_flip=True)\n",
    "\n",
    "datagen.fit(X_train)\n",
    "\n",
    "model.compile(optimizer=\"adam\", loss=\"categorical_crossentropy\", metrics = ['accuracy'])\n",
    "\n",
    "model.fit_generator(datagen.flow(X_train, Y_train, batch_size = 64), steps_per_epoch=X_train.shape[0] // 64,epochs=20, validation_data=(X_test, Y_test))\n"
   ]
  },
  {
   "cell_type": "code",
   "execution_count": 4,
   "metadata": {},
   "outputs": [
    {
     "name": "stdout",
     "output_type": "stream",
     "text": [
      "10000/10000 [==============================] - 2s 207us/step\n"
     ]
    },
    {
     "data": {
      "text/plain": [
       "[0.5869816507339477, 0.807699978351593]"
      ]
     },
     "execution_count": 4,
     "metadata": {},
     "output_type": "execute_result"
    }
   ],
   "source": [
    "model.evaluate(X_test, Y_test, batch_size=128)"
   ]
  },
  {
   "cell_type": "code",
   "execution_count": 7,
   "metadata": {},
   "outputs": [],
   "source": [
    "import cv2\n",
    "import numpy as np\n",
    "\n",
    "cap = cv2.VideoCapture(\"D:/Python Projects/Data/Videos/carstest.mp4\")\n",
    "\n",
    "ret, frame1 = cap.read()\n",
    "i = 0\n",
    "while cap.isOpened():\n",
    "    ret, frame2 = cap.read()\n",
    "    diff = cv2.absdiff(frame1, frame2)\n",
    "    diff = cv2.cvtColor(diff, cv2.COLOR_BGR2GRAY)\n",
    "    blur = cv2.GaussianBlur(diff, (5, 5), 0)\n",
    "    _, thresh = cv2.threshold(blur, 20, 255, cv2.THRESH_BINARY)\n",
    "    dilate = cv2.dilate(thresh, None, iterations = 3)\n",
    "    contours, _ = cv2.findContours(dilate, cv2.RETR_TREE, cv2.CHAIN_APPROX_SIMPLE)\n",
    "    #cv2.drawContours(frame1, contours, -1, (0, 255, 0), 2)\n",
    "\n",
    "    for contour in contours:\n",
    "        if cv2.contourArea(contour) < 2000:\n",
    "            continue\n",
    "        (x, y, w, h) = cv2.boundingRect(contour)\n",
    "        image_frame = np.zeros((32, 32, 3), np.float32)\n",
    "        image_frame = frame1[y : y + h, x : x + w]\n",
    "        image_frame = np.resize(image_frame, (1, 32, 32, 3))\n",
    "        if(np.argmax(model.predict(image_frame)) == 1):\n",
    "            cv2.putText(frame1, \"AutoMobile\", (x, y), cv2.FONT_HERSHEY_COMPLEX, 0.5, (255, 255, 255), 1, cv2.LINE_AA)\n",
    "        \n",
    "        cv2.putText(frame1, \"Status : Movement\", (10, 20), cv2.FONT_HERSHEY_COMPLEX, 0.5, (255, 255, 255), 1, cv2.LINE_AA)\n",
    "        cv2.rectangle(frame1, (x, y), (x + w, y + h), (0, 255, 0), 2, cv2.LINE_AA)\n",
    "    \n",
    "    cv2.imshow(\"Frame\", frame1)\n",
    "    frame1 = frame2\n",
    "    if cv2.waitKey(40) == 27:\n",
    "        break\n",
    "    i += 1\n",
    "    \n",
    "cv2.destroyAllWindows()\n",
    "cap.release()"
   ]
  },
  {
   "cell_type": "code",
   "execution_count": null,
   "metadata": {},
   "outputs": [],
   "source": [
    "import cv2\n",
    "import numpy as np\n",
    "\n",
    "def reorder(points):\n",
    "    points_new = np.zeros_like(points)\n",
    "    points = np.reshape(points, (4, 2))\n",
    "    add = point.sum(1)\n",
    "    points_new[0] = points[np.argmin(add)]\n",
    "    points_new[3] = points[np.argmax(add)]\n",
    "    diff = np.diff(points, axis = 1)\n",
    "    points_new[1] = points[np.argmax(diff)]\n",
    "    points_new[2] = points[np.argmin(diff)]\n",
    "    \n",
    "    return points_new\n",
    "\n",
    "def warpimage(image, points, w, h):\n",
    "    reorder(points)\n",
    "    point_1 = np.float32(points)\n",
    "    point_2 = np.float32([[0, 0], [w ,0], [0, h], [w, h]])\n",
    "    matrix = cv2.getPerspectiveTransform(point_1, point_2) \n",
    "    \n",
    "    \n",
    "def getContours(image, thresholds, minArea):\n",
    "    finalcontours = []\n",
    "    imagegray = cv2.cvtColor(image, cv2.COLOR_BGR2GRAY)\n",
    "    imageblur = cv2.GaussianBlur(imagegray, (5, 5), 1)\n",
    "    #_, mask = cv2.threshold(imageblur, 40, 255, cv2.THRESH_BINARY)\n",
    "    edges = cv2.Canny(imageblur, thresholds[0], thresholds[1])\n",
    "    #image_d_e = cv2.morphologyEx(edges, cv2.MORPH_CLOSE, np.ones((5, 5), np.uint8), iterations = 3)\n",
    "    image_d_e = cv2.dilate(edges, np.ones((5,5), np.uint8), iterations = 3)\n",
    "    image_d_e = cv2.erode(image_d_e, np.ones((5,5), np.uint8), iterations = 2)\n",
    "    cv2.imshow(\"Proccesed Image\", image_d_e)\n",
    "    \n",
    "    contours, _ = cv2.findContours(image_d_e, cv2.RETR_EXTERNAL, cv2.CHAIN_APPROX_SIMPLE)\n",
    "    \n",
    "    for i in contours:\n",
    "        area = cv2.contourArea(i)\n",
    "        \n",
    "        if area > minArea:\n",
    "            peri = cv2.arcLength(i, True)\n",
    "            approx = cv2.approxPolyDP(i, 0.02 * peri, True)\n",
    "            bbox = cv2.boundingRect(approx)\n",
    "            finalcontours.append((len(approx), area, approx, bbox, i))\n",
    "        \n",
    "    finalcontours = sorted(finalcontours, key = lambda x:x[1], reverse = True)\n",
    "    \n",
    "    for contour_detail in finalcontours:\n",
    "        cv2.drawContours(image, [contour_detail[4]], -1, (0, 255, 0), 2, cv2.LINE_AA)\n",
    "        \n",
    "            \n",
    "\n",
    "capture = cv2.VideoCapture(0)\n",
    "\n",
    "while capture.isOpened():\n",
    "    success, frame = capture.read()\n",
    "    if(success):\n",
    "        getContours(frame, (40, 140), 40000)\n",
    "        cv2.imshow(\"Frame\", frame)\n",
    "    if(cv2.waitKey(40) == 27):\n",
    "        break\n",
    "    \n",
    "capture.release()\n",
    "cv2.destroyAllWindows()\n",
    "    "
   ]
  }
 ],
 "metadata": {
  "kernelspec": {
   "display_name": "Python 3",
   "language": "python",
   "name": "python3"
  },
  "language_info": {
   "codemirror_mode": {
    "name": "ipython",
    "version": 3
   },
   "file_extension": ".py",
   "mimetype": "text/x-python",
   "name": "python",
   "nbconvert_exporter": "python",
   "pygments_lexer": "ipython3",
   "version": "3.7.7"
  },
  "toc": {
   "base_numbering": 1,
   "nav_menu": {},
   "number_sections": true,
   "sideBar": true,
   "skip_h1_title": false,
   "title_cell": "Table of Contents",
   "title_sidebar": "Contents",
   "toc_cell": false,
   "toc_position": {},
   "toc_section_display": true,
   "toc_window_display": false
  },
  "varInspector": {
   "cols": {
    "lenName": 16,
    "lenType": 16,
    "lenVar": 40
   },
   "kernels_config": {
    "python": {
     "delete_cmd_postfix": "",
     "delete_cmd_prefix": "del ",
     "library": "var_list.py",
     "varRefreshCmd": "print(var_dic_list())"
    },
    "r": {
     "delete_cmd_postfix": ") ",
     "delete_cmd_prefix": "rm(",
     "library": "var_list.r",
     "varRefreshCmd": "cat(var_dic_list()) "
    }
   },
   "types_to_exclude": [
    "module",
    "function",
    "builtin_function_or_method",
    "instance",
    "_Feature"
   ],
   "window_display": false
  }
 },
 "nbformat": 4,
 "nbformat_minor": 2
}
